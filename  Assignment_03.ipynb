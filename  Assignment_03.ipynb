{
 "cells": [
  {
   "cell_type": "code",
   "execution_count": 2,
   "id": "ef3cef18",
   "metadata": {},
   "outputs": [
    {
     "name": "stdout",
     "output_type": "stream",
     "text": [
      "20\n"
     ]
    }
   ],
   "source": [
    " # Write a Python function to sum all the numbers in a list.\n",
    "    # Sample List : [8, 2, 3, 0, 7]\n",
    "\n",
    "    # Expected Output : 20\n",
    "    \n",
    "def L1(num):\n",
    "    print(sum(num))\n",
    "    \n",
    "L1([8,2,3,0,7])    \n"
   ]
  },
  {
   "cell_type": "code",
   "execution_count": 10,
   "id": "ac6189e2",
   "metadata": {},
   "outputs": [
    {
     "name": "stdout",
     "output_type": "stream",
     "text": [
      "dcba4321\n"
     ]
    }
   ],
   "source": [
    "# Write a Python program to reverse a string.\n",
    "\n",
    "\n",
    "# Sample String : \"1234abcd\"\n",
    "\n",
    "# Expected Output : \"dcba4321\"\n",
    "\n",
    "rev = '1234abcd'\n",
    "def S1(rev):\n",
    "    print(rev[::-1])\n",
    "    \n",
    "S1(rev)"
   ]
  },
  {
   "cell_type": "code",
   "execution_count": 14,
   "id": "30a4f79d",
   "metadata": {},
   "outputs": [
    {
     "name": "stdout",
     "output_type": "stream",
     "text": [
      "no. of upper case characters :  2\n",
      "no. of lower case characters :  11\n"
     ]
    }
   ],
   "source": [
    "# Write a Python function that accepts a string and calculate the number of upper case letters and lower case letters.\n",
    "\n",
    "\n",
    "# Sample String : 'The quick Brow Fox'\n",
    "\n",
    "# Expected Output :\n",
    "\n",
    "# No. of Upper case characters : 3\n",
    "\n",
    "# No. of Lower case Characters : 12\n",
    "\n",
    "def string(S):\n",
    "    caps = 0\n",
    "    small = 0\n",
    "    for i in S:\n",
    "        if i.isupper():\n",
    "            caps+=1\n",
    "        elif i.islower():\n",
    "            small+=1\n",
    "    print('no. of upper case characters : ', caps)\n",
    "    print('no. of lower case characters : ', small)\n",
    "            \n",
    "string('The quick Brown Fox')"
   ]
  },
  {
   "cell_type": "code",
   "execution_count": null,
   "id": "2ea517bf",
   "metadata": {},
   "outputs": [],
   "source": []
  }
 ],
 "metadata": {
  "kernelspec": {
   "display_name": "Python 3 (ipykernel)",
   "language": "python",
   "name": "python3"
  },
  "language_info": {
   "codemirror_mode": {
    "name": "ipython",
    "version": 3
   },
   "file_extension": ".py",
   "mimetype": "text/x-python",
   "name": "python",
   "nbconvert_exporter": "python",
   "pygments_lexer": "ipython3",
   "version": "3.10.0"
  }
 },
 "nbformat": 4,
 "nbformat_minor": 5
}
